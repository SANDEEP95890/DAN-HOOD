{
 "cells": [
  {
   "cell_type": "code",
   "execution_count": null,
   "metadata": {},
   "outputs": [],
   "source": [
    "def factorial(n):\n",
    "    if n>1:\n",
    "        return factorial(n-1)\n",
    "        a=a*n\n",
    "    else: return 1\n",
    "factorial(2)"
   ]
  },
  {
   "cell_type": "code",
   "execution_count": 4,
   "metadata": {},
   "outputs": [
    {
     "name": "stdout",
     "output_type": "stream",
     "text": [
      "28\n",
      "75\n",
      "138\n",
      "217\n",
      "0\n"
     ]
    }
   ],
   "source": [
    "def threesquares(m):\n",
    "    for i in range(m):\n",
    "        print ((4^i)*(8*i+7))\n",
    "threesquares(5)"
   ]
  },
  {
   "cell_type": "code",
   "execution_count": 5,
   "metadata": {},
   "outputs": [],
   "source": [
    "def threesquares(m):\n",
    "   if(m-7)%8==0 or (m-28)%8==0 :\n",
    "      return(False)\n",
    "   else:\n",
    "      return(True)"
   ]
  },
  {
   "cell_type": "code",
   "execution_count": 6,
   "metadata": {},
   "outputs": [
    {
     "data": {
      "text/plain": [
       "3"
      ]
     },
     "execution_count": 6,
     "metadata": {},
     "output_type": "execute_result"
    }
   ],
   "source": [
    "import math\n",
    "int(math.log10(1024))"
   ]
  },
  {
   "cell_type": "code",
   "execution_count": 1,
   "metadata": {},
   "outputs": [
    {
     "data": {
      "text/plain": [
       "False"
      ]
     },
     "execution_count": 1,
     "metadata": {},
     "output_type": "execute_result"
    }
   ],
   "source": [
    "import math\n",
    "def threesquares(m):\n",
    "    n=int(math.log10(m))\n",
    "    if n<1:\n",
    "        n=1\n",
    "    for a in range(n+1):\n",
    "        b=0\n",
    "        z=0\n",
    "        while z<=m:\n",
    "            z=((pow(4,a))*(8*b+7))\n",
    "            if z==m:\n",
    "                return False\n",
    "            b+=1\n",
    "    return True\n",
    "threesquares(28)"
   ]
  },
  {
   "cell_type": "code",
   "execution_count": 2,
   "metadata": {},
   "outputs": [
    {
     "data": {
      "text/plain": [
       "True"
      ]
     },
     "execution_count": 2,
     "metadata": {},
     "output_type": "execute_result"
    }
   ],
   "source": [
    "def repfree(s):\n",
    "    flag=0\n",
    "    for i in s:\n",
    "        if s.count(i)>1:\n",
    "            flag=1\n",
    "    if flag==1:\n",
    "        return False\n",
    "    else:return True\n",
    "repfree('jhgf')"
   ]
  },
  {
   "cell_type": "code",
   "execution_count": 3,
   "metadata": {},
   "outputs": [
    {
     "name": "stdout",
     "output_type": "stream",
     "text": [
      "l  1 0 9\n",
      "l  2 1 5\n",
      "l  3 2 4\n",
      "l  4 3 -1\n"
     ]
    },
    {
     "data": {
      "text/plain": [
       "False"
      ]
     },
     "execution_count": 3,
     "metadata": {},
     "output_type": "execute_result"
    }
   ],
   "source": [
    "def hillvalley(l):  \n",
    "    flag=1\n",
    "    high,low=0,0\n",
    "    for i in range(len(l)-1):\n",
    "        if l[i]<l[i+1] and flag==1:\n",
    "            high+=1\n",
    "            print('h ',high,i,l[i])\n",
    "        elif l[i]>l[i+1]:\n",
    "            low+=1\n",
    "            flag=0\n",
    "            print('l ',low,i,l[i])\n",
    "    if (high+low)==len(l):\n",
    "        return True\n",
    "    else:\n",
    "        return False\n",
    "hillvalley([9,5,4,-1,-2,3,7])"
   ]
  },
  {
   "cell_type": "code",
   "execution_count": 4,
   "metadata": {},
   "outputs": [],
   "source": [
    "def hillvalley(seq):\n",
    "    is_dec, is_inc = False, False\n",
    "    inflections = 0\n",
    "    for i in range(len(seq)-1):\n",
    "        if inflections > 1:\n",
    "            return False\n",
    "        right = seq[i+1]\n",
    "        middle = seq[i]\n",
    "        diff = right - middle\n",
    "        if diff > 0:\n",
    "            if is_dec:\n",
    "                inflections += 1\n",
    "            is_inc = True\n",
    "            is_dec = False\n",
    "        elif diff < 0:\n",
    "            if is_inc:\n",
    "                inflections += 1\n",
    "            is_dec = True\n",
    "            is_inc = False\n",
    "    if inflections == 1:\n",
    "        return True\n",
    "    return False"
   ]
  },
  {
   "cell_type": "code",
   "execution_count": 5,
   "metadata": {},
   "outputs": [
    {
     "name": "stdout",
     "output_type": "stream",
     "text": [
      "True\n",
      "False\n",
      "True\n",
      "False\n"
     ]
    }
   ],
   "source": [
    "lst=[[1,2,3,5,4],[1,2,3,4,5],[5,4,1,2,3],[5,4,3,2,1]]\n",
    "for i in lst:\n",
    "    print(hillvalley(i))"
   ]
  },
  {
   "cell_type": "code",
   "execution_count": null,
   "metadata": {},
   "outputs": [],
   "source": [
    "T=int(input())\n",
    "for i in range(T):\n",
    "    a,b,c,d=input().split()\n",
    "    a,b,c,d=[int(a),int(b),int(c),int(d)]\n",
    "    if c<d:\n",
    "        c,d=d,c\n",
    "    if a>b:\n",
    "        a,b=b,a\n",
    "    while b>a:\n",
    "        a+=c\n",
    "        b+=d\n",
    "    if a==b:\n",
    "        print('YES')\n",
    "    else:print('NO')\n",
    "        "
   ]
  },
  {
   "cell_type": "code",
   "execution_count": 56,
   "metadata": {
    "scrolled": true
   },
   "outputs": [
    {
     "data": {
      "text/plain": [
       "[1, 2, 3, 5, 6]"
      ]
     },
     "execution_count": 56,
     "metadata": {},
     "output_type": "execute_result"
    }
   ],
   "source": [
    "def remdup(l):\n",
    "    i=0\n",
    "    while i<len(l)-1:\n",
    "        if l.count(l[i])>1:\n",
    "            rest=l[i+1:]\n",
    "            rest.remove(l[i])\n",
    "            l[i+1:]=rest\n",
    "            i-=1\n",
    "        i+=1\n",
    "    return l\n",
    "remdup([1,2,3,1,2,5,6,1,5])"
   ]
  },
  {
   "cell_type": "code",
   "execution_count": 60,
   "metadata": {},
   "outputs": [
    {
     "data": {
      "text/plain": [
       "[10, 20]"
      ]
     },
     "execution_count": 60,
     "metadata": {},
     "output_type": "execute_result"
    }
   ],
   "source": [
    "def sumsquare(l):\n",
    "    even,odd=0,0\n",
    "    for i in l:\n",
    "        if i%2==0:\n",
    "            even+=i*i\n",
    "        else:odd+=i*i\n",
    "    return [odd,even]\n",
    "sumsquare([1,2,3,4])"
   ]
  },
  {
   "cell_type": "code",
   "execution_count": 117,
   "metadata": {},
   "outputs": [
    {
     "data": {
      "text/plain": [
       "[[1, 5], [2, 6], [3, 7], [4, 8]]"
      ]
     },
     "execution_count": 117,
     "metadata": {},
     "output_type": "execute_result"
    }
   ],
   "source": [
    "def transpose(m):\n",
    "    n=[]\n",
    "    for i in range(len(m[0])):          # A for loop for row entries \n",
    "        a =[] \n",
    "        for j in range(len(m)):      # A for loop for column entries \n",
    "            a.append(m[j][i]) \n",
    "        n.append(a)\n",
    "    return n\n",
    "transpose([[1,2,3,4],[5,6,7,8]])"
   ]
  },
  {
   "cell_type": "code",
   "execution_count": 5,
   "metadata": {},
   "outputs": [
    {
     "name": "stdout",
     "output_type": "stream",
     "text": [
      "258\n",
      "None\n",
      "None\n",
      "None\n",
      "None\n",
      "None\n",
      "None\n"
     ]
    }
   ],
   "source": [
    "def mystery(l,v):\n",
    "  if len(l) == 0:\n",
    "    print (v)\n",
    "  else:\n",
    "    print (mystery(l[:-1],l[-1]+v))\n",
    "mystery([22,14,19,65,82,55],1)"
   ]
  },
  {
   "cell_type": "code",
   "execution_count": 6,
   "metadata": {},
   "outputs": [
    {
     "data": {
      "text/plain": [
       "[22, 14, 19, 65, 82]"
      ]
     },
     "execution_count": 6,
     "metadata": {},
     "output_type": "execute_result"
    }
   ],
   "source": [
    "l=[22,14,19,65,82,55]\n",
    "l[:-1]"
   ]
  },
  {
   "cell_type": "code",
   "execution_count": 7,
   "metadata": {},
   "outputs": [
    {
     "data": {
      "text/plain": [
       "257"
      ]
     },
     "execution_count": 7,
     "metadata": {},
     "output_type": "execute_result"
    }
   ],
   "source": [
    "sum(l)"
   ]
  },
  {
   "cell_type": "code",
   "execution_count": 1,
   "metadata": {},
   "outputs": [],
   "source": [
    "triples = [ (x,y,z) for x in range(2,4) for y in range(2,5) for z in range(5,7) if 2*x*y > 3*z ]"
   ]
  },
  {
   "cell_type": "code",
   "execution_count": 2,
   "metadata": {},
   "outputs": [
    {
     "data": {
      "text/plain": [
       "[(2, 4, 5), (3, 3, 5), (3, 4, 5), (3, 4, 6)]"
      ]
     },
     "execution_count": 2,
     "metadata": {},
     "output_type": "execute_result"
    }
   ],
   "source": [
    "triples"
   ]
  },
  {
   "cell_type": "code",
   "execution_count": 13,
   "metadata": {},
   "outputs": [],
   "source": [
    "runs = {\"Test\":{\"Rahul\":[90,14,35],\"Kohli\":[3,103,73,42],\"Pujara\":[53,15,133,8]},\"ODI\":{\"Sharma\":[37,99],\"Kohli\":[63,47]}}\n",
    "#runs[\"ODI\"][\"Rahul\"].append([74])\n",
    "#runs[\"ODI\"][\"Rahul\"].extend([74])\n",
    "#runs[\"ODI\"][\"Rahul\"][0]=74\n",
    "runs[\"ODI\"][\"Rahul\"]=[74]"
   ]
  },
  {
   "cell_type": "code",
   "execution_count": 15,
   "metadata": {},
   "outputs": [
    {
     "ename": "TypeError",
     "evalue": "unhashable type: 'list'",
     "output_type": "error",
     "traceback": [
      "\u001b[1;31m---------------------------------------------------------------------------\u001b[0m",
      "\u001b[1;31mTypeError\u001b[0m                                 Traceback (most recent call last)",
      "\u001b[1;32m<ipython-input-15-25b2bf657e1e>\u001b[0m in \u001b[0;36m<module>\u001b[1;34m\u001b[0m\n\u001b[0;32m      2\u001b[0m \u001b[0mactor\u001b[0m\u001b[1;33m[\u001b[0m\u001b[1;34m\"Star Wars\"\u001b[0m\u001b[1;33m]\u001b[0m \u001b[1;33m=\u001b[0m \u001b[1;33m[\u001b[0m\u001b[1;34m\"Rey\"\u001b[0m\u001b[1;33m,\u001b[0m\u001b[1;34m\"Ridley\"\u001b[0m\u001b[1;33m]\u001b[0m\u001b[1;33m\u001b[0m\u001b[1;33m\u001b[0m\u001b[0m\n\u001b[0;32m      3\u001b[0m \u001b[0mactor\u001b[0m\u001b[1;33m[\u001b[0m\u001b[1;34m\"Star Wars, Rey\"\u001b[0m\u001b[1;33m]\u001b[0m \u001b[1;33m=\u001b[0m \u001b[1;34m\"Ridley\"\u001b[0m\u001b[1;33m\u001b[0m\u001b[1;33m\u001b[0m\u001b[0m\n\u001b[1;32m----> 4\u001b[1;33m \u001b[0mactor\u001b[0m\u001b[1;33m[\u001b[0m\u001b[1;33m[\u001b[0m\u001b[1;34m\"Star Wars\"\u001b[0m\u001b[1;33m,\u001b[0m \u001b[1;34m\"Rey\"\u001b[0m\u001b[1;33m]\u001b[0m\u001b[1;33m]\u001b[0m \u001b[1;33m=\u001b[0m \u001b[1;34m\"Ridley\"\u001b[0m\u001b[1;33m\u001b[0m\u001b[1;33m\u001b[0m\u001b[0m\n\u001b[0m\u001b[0;32m      5\u001b[0m \u001b[0mactor\u001b[0m\u001b[1;33m[\u001b[0m\u001b[1;33m(\u001b[0m\u001b[1;34m\"Star Wars\"\u001b[0m\u001b[1;33m,\u001b[0m \u001b[1;34m\"Rey\"\u001b[0m\u001b[1;33m)\u001b[0m\u001b[1;33m]\u001b[0m \u001b[1;33m=\u001b[0m \u001b[1;34m\"Ridley\"\u001b[0m\u001b[1;33m\u001b[0m\u001b[1;33m\u001b[0m\u001b[0m\n",
      "\u001b[1;31mTypeError\u001b[0m: unhashable type: 'list'"
     ]
    }
   ],
   "source": [
    "actor = {}\n",
    "actor[\"Star Wars\"] = [\"Rey\",\"Ridley\"]\n",
    "actor[\"Star Wars, Rey\"] = \"Ridley\"\n",
    "actor[[\"Star Wars\", \"Rey\"]] = \"Ridley\"\n",
    "actor[(\"Star Wars\", \"Rey\")] = \"Ridley\""
   ]
  },
  {
   "cell_type": "code",
   "execution_count": 22,
   "metadata": {},
   "outputs": [
    {
     "data": {
      "text/plain": [
       "('Ashwin', 143)"
      ]
     },
     "execution_count": 22,
     "metadata": {},
     "output_type": "execute_result"
    }
   ],
   "source": [
    "def orangecap (d):\n",
    "    totalscore = dict()\n",
    "    for match in d:\n",
    "        for plr in d[match]:\n",
    "            if plr in totalscore:\n",
    "                totalscore[plr] += d[match][plr]\n",
    "            else:\n",
    "                totalscore[plr] = d[match][plr]\n",
    "    best = max(totalscore, key=totalscore.get)\n",
    "    return best, totalscore[best]\n",
    "orangecap({'test1':{'Ashwin':84, 'Kohli':120}, 'test2':{'Ashwin':59, 'Pujara':42}})"
   ]
  },
  {
   "cell_type": "code",
   "execution_count": 17,
   "metadata": {},
   "outputs": [],
   "source": [
    "def addpoly(p1,p2):\n",
    "\ti=0\n",
    "\tsu=0\n",
    "\tj=0\n",
    "\tc=[]\n",
    "\tif len(p1)==0:\n",
    "\t\t#if p1 empty\n",
    "\t\treturn p2\n",
    "\tif len(p2)==0:\n",
    "\t\t#if p2 is empty\n",
    "\t\treturn p1\n",
    "\twhile i<len(p1) and j<len(p2):\n",
    "\t\tif int(p1[i][1])==int(p2[j][1]):\n",
    "\t\t\tsu=p1[i][0]+p2[j][0]\n",
    "\t\t\tif su !=0:\n",
    "\t\t\t\tc.append((su,p1[i][1]))\n",
    "\t\t\ti=i+1\n",
    "\t\t\tj=j+1\n",
    "\t\telif p1[i][1]>p2[j][1]:\n",
    "\t\t\tc.append((p1[i]))\n",
    "\t\t\ti=i+1\n",
    "\t\telif p1[i][1]<p2[j][1]:\n",
    "\t\t\tc.append((p2[j]))\n",
    "\t\t\tj=j+1\n",
    "\tif p1[i:]!=[]:\n",
    "\t\tfor k in p1[i:]:\n",
    "\t\t\tc.append(k)\n",
    "\tif p2[j:]!=[]:\n",
    "\t\tfor k in p2[j:]:\n",
    "\t\t\tc.append(k)\n",
    "\treturn c"
   ]
  },
  {
   "cell_type": "code",
   "execution_count": 18,
   "metadata": {},
   "outputs": [],
   "source": [
    "def multpoly(p1,p2):\n",
    "\tp=[]\n",
    "\ts=0\n",
    "\tfor i in p1:\n",
    "\t\tc=[]\n",
    "\t\tfor j in p2:\n",
    "\t\t\ts=i[0]*j[0]\n",
    "\t\t\te=i[1]+j[1]\n",
    "\t\t\tc.append((s,e))\n",
    "\t\tp=addpoly(c,p)"
   ]
  },
  {
   "cell_type": "code",
   "execution_count": 15,
   "metadata": {},
   "outputs": [
    {
     "data": {
      "text/plain": [
       "True"
      ]
     },
     "execution_count": 15,
     "metadata": {},
     "output_type": "execute_result"
    }
   ],
   "source": [
    "u={1,3,4}\n",
    "v={1,3,4}\n",
    "u|v != u^v"
   ]
  },
  {
   "cell_type": "code",
   "execution_count": 17,
   "metadata": {},
   "outputs": [
    {
     "ename": "SyntaxError",
     "evalue": "invalid syntax (<ipython-input-17-c405deb921bd>, line 2)",
     "output_type": "error",
     "traceback": [
      "\u001b[1;36m  File \u001b[1;32m\"<ipython-input-17-c405deb921bd>\"\u001b[1;36m, line \u001b[1;32m2\u001b[0m\n\u001b[1;33m    for each v ∈ V:\u001b[0m\n\u001b[1;37m             ^\u001b[0m\n\u001b[1;31mSyntaxError\u001b[0m\u001b[1;31m:\u001b[0m invalid syntax\n"
     ]
    }
   ],
   "source": [
    "PQinit()\n",
    "for each v ∈ V:\n",
    "    key(v) ← ∞\n",
    "    PQinsert(v)\n",
    "key(s)← 0\n",
    "while (!PQisempty()):\n",
    "    v = PQdelmin()\n",
    "    for each w ∈ Q s.t (v,w) ∈ E:\n",
    "        if π(w) >π(v) + c(v,w):\n",
    "            PQdecrease(w,π(v) + c(v,w))"
   ]
  },
  {
   "cell_type": "code",
   "execution_count": 18,
   "metadata": {},
   "outputs": [
    {
     "data": {
      "text/plain": [
       "{'a', 'b', 'd', 's'}"
      ]
     },
     "execution_count": 18,
     "metadata": {},
     "output_type": "execute_result"
    }
   ],
   "source": [
    "set('aaabbbsd')"
   ]
  },
  {
   "cell_type": "code",
   "execution_count": 21,
   "metadata": {},
   "outputs": [
    {
     "data": {
      "text/plain": [
       "'fghj - gjk'"
      ]
     },
     "execution_count": 21,
     "metadata": {},
     "output_type": "execute_result"
    }
   ],
   "source": [
    "'fghj - gjk'.strip()"
   ]
  },
  {
   "cell_type": "code",
   "execution_count": 66,
   "metadata": {},
   "outputs": [
    {
     "data": {
      "text/plain": [
       "67"
      ]
     },
     "execution_count": 66,
     "metadata": {},
     "output_type": "execute_result"
    }
   ],
   "source": [
    "class ba:\n",
    "    def value(self,n):\n",
    "        self.x=n\n",
    "        return self.x\n",
    "    \n",
    "b=ba()\n",
    "n=b.value(67)\n",
    "n"
   ]
  },
  {
   "cell_type": "code",
   "execution_count": 65,
   "metadata": {},
   "outputs": [
    {
     "data": {
      "text/plain": [
       "7"
      ]
     },
     "execution_count": 65,
     "metadata": {},
     "output_type": "execute_result"
    }
   ],
   "source": [
    "class ba:\n",
    "    def value(self,n):\n",
    "        x=n\n",
    "        return x\n",
    "    \n",
    "b=ba()\n",
    "n=b.value(7)\n",
    "n"
   ]
  },
  {
   "cell_type": "code",
   "execution_count": 67,
   "metadata": {},
   "outputs": [],
   "source": [
    "def __init__():\n",
    "    a"
   ]
  },
  {
   "cell_type": "code",
   "execution_count": 5,
   "metadata": {},
   "outputs": [
    {
     "name": "stdout",
     "output_type": "stream",
     "text": [
      "Sachin \n"
     ]
    },
    {
     "data": {
      "text/plain": [
       "['S', 'a', 'c', 'h', 'i', 'n', ' ']"
      ]
     },
     "execution_count": 5,
     "metadata": {},
     "output_type": "execute_result"
    }
   ],
   "source": [
    "a=list(input())\n",
    "a"
   ]
  },
  {
   "cell_type": "code",
   "execution_count": null,
   "metadata": {},
   "outputs": [],
   "source": [
    "def T(n):\n",
    "    if n==1:\n",
    "        return 0\n",
    "    else:\n",
    "        print (n)\n",
    "        return 2*T(n/2)+n\n",
    "T(64)"
   ]
  },
  {
   "cell_type": "markdown",
   "metadata": {},
   "source": [
    "Problem: IOI Training Camp 20xx (INOI-2011)\n",
    " Link: http://www.iarcs.org.in/inoi/2011/inoi2011/inoi2011-qpaper.pdf\n",
    "*/\n",
    "\n",
    "#include <stdio.h>\n",
    "\n",
    "int A[10000];\n",
    "int N,K;\n",
    "int d,max_d,max_e_here;\n",
    "\n",
    "const int nil = -20000;\n",
    "\n",
    "int gmin(int x,int y){\n",
    "\tint i,min = nil;\n",
    "\tfor(i = x;i <= y;i ++){\n",
    "\t\tif(A[i] <= max_d && A[i] > min){\n",
    "\t\t\tmin = A[i];\n",
    "\t\t}\n",
    "\t}\n",
    "\treturn min;\n",
    "}\n",
    "\n",
    "void sum(int x,int y){\n",
    "\tif(A[y] < max_d && K > 0){\n",
    "\t\tif(d < K){\n",
    "\t\t\td++;\n",
    "\t\t}\n",
    "\t\tif(d == K){\n",
    "\t\t\tmax_e_here = max_e_here + max_d;\n",
    "\t\t\tmax_d = gmin(x,y);\n",
    "\t\t}\n",
    "\t}\n",
    "\telse{\n",
    "\t\tmax_e_here = max_e_here+A[y];\n",
    "\t}\n",
    "}\n",
    "\n",
    "int main(){\n",
    "\n",
    "\tint i,max_so_far,s;\n",
    "\tscanf(\"%d%d\",&N,&K);\n",
    "\n",
    "\tfor(i = 0;i < N ; i++){\n",
    "\t\tscanf(\"%d\",&A[i]);\n",
    "\t}\n",
    "\n",
    "\tmax_e_here = 0;\n",
    "\td = 0;\n",
    "\tmax_d = 0;\n",
    "\tmax_so_far = 0;\n",
    "\ts = 0;\n",
    "\n",
    "\tfor(i = 0;i < N ;i++){\n",
    "\t\tsum(s,i);\n",
    "\t\tif(max_e_here < A[i]){\n",
    "\t\t\td = 0;\n",
    "\t\t\tmax_d = 0;\n",
    "\t\t\tmax_e_here = 0;\n",
    "\t\t\ts = i;\n",
    "\t\t\tsum(s,i);\n",
    "\t\t}\n",
    "\t\tif(max_e_here > max_so_far){\n",
    "\t\t\tmax_so_far = max_e_here;\n",
    "\t\t}\n",
    "\t}\n",
    "\n",
    "\tprintf(\"%d\",max_so_far);\n",
    "\treturn 0;\n",
    "}"
   ]
  },
  {
   "cell_type": "markdown",
   "metadata": {},
   "source": [
    "A=[]\n",
    "nil=-20000\n",
    "\n",
    "def gmin(x,y,max_d,max_e_hear,K,d):\n",
    "    min=nil\n",
    "    for i in range(x,y+1):\n",
    "        if A[i]<=max_d and A[i]>min:\n",
    "            min=A[i]\n",
    "    return min\n",
    "def sum_(x,y,max_d,max_e_hear,K,d):\n",
    "    if A[y]<max_d and K>0:\n",
    "        if d<k:\n",
    "            d+=1\n",
    "        if d==k:\n",
    "            max_e_hear+=max_d\n",
    "            max_d=gmin(x,y,max_d,max_e_hear,K,d)\n",
    "    else:\n",
    "        max_e_hear+=A[y]\n",
    "        \n",
    "\n",
    "if __name__ == \"__main__\":\n",
    "    N,K = input().split()\n",
    "    N,K = [int(N), int(K)]\n",
    "    \n",
    "    for i in range(0, N): \n",
    "        ele = int(input())\n",
    "        A.append(ele)  \n",
    "     \n",
    "    max_e_hear=0\n",
    "    d=0\n",
    "    max_d=0\n",
    "    max_so_far=0\n",
    "    s=0\n",
    "    \n",
    "    for i in range(N):\n",
    "        sum_(s,i,max_d,max_e_hear,K,d)\n",
    "        if max_e_hear<A[i]:\n",
    "            d=0\n",
    "            max_d=0\n",
    "            max_e_hear=0\n",
    "            s=i\n",
    "            sum_(s,i,max_d,max_e_hear,K,d)\n",
    "            \n",
    "        if max_e_here > max_so_far:\n",
    "            max_so_far = max_e_here\n",
    "            \n",
    "    print(max_so_far)"
   ]
  },
  {
   "cell_type": "code",
   "execution_count": 5,
   "metadata": {},
   "outputs": [
    {
     "name": "stdout",
     "output_type": "stream",
     "text": [
      "4 2\n",
      "7\n",
      "9\n",
      "-9\n",
      "9\n",
      "25 0\n"
     ]
    }
   ],
   "source": [
    "def sumsub(ls,k):\n",
    "    if k==0:\n",
    "        return(sum(ls))\n",
    "    else:\n",
    "        ls.sort()\n",
    "        if len(ls)>=k:\n",
    "            for j in range(0,k):\n",
    "               if(ls[0]<0):\n",
    "                  ls.remove(ls[0])\n",
    "            return(sum(ls))\n",
    "        else:\n",
    "            for i in range(len(ls)):\n",
    "               if ls[0]<0:\n",
    "                  ls.remove(ls[0])\n",
    "            return(sum(ls))\n",
    "\n",
    "n,k = map(int,input().split(\" \"))\n",
    "l=[]\n",
    "smax=0\n",
    "for i in range(n):\n",
    "    m=input()\n",
    "    l.append(int(m))\n",
    "for i in range(n):\n",
    "    for j in range(n,0,-1):\n",
    "        s=sumsub(l[i:j],k)\n",
    "        if s>smax :\n",
    "            smax=s\n",
    "print(smax,s)\n"
   ]
  },
  {
   "cell_type": "code",
   "execution_count": 1,
   "metadata": {},
   "outputs": [
    {
     "name": "stdout",
     "output_type": "stream",
     "text": [
      "3 2\n",
      "8\n",
      "-7\n",
      "6\n",
      "14\n"
     ]
    }
   ],
   "source": [
    "r,m = map(int,input().split())\n",
    "ll = []\n",
    "ll.append(0)\n",
    "\n",
    "for i in range(r):\n",
    "\ty = int(input())\n",
    "\tll.append(y)\n",
    "    \n",
    "bst = [[0 for z in range(m+1)] for zz in range(r+1)]\n",
    "\n",
    "for i in range(1, r+1):\n",
    "\tbst[i][0] = max(bst[i-1][0]+ll[i], ll[i])\n",
    "\tfor j in range(1, min(i+1, m+1)):\n",
    "\t\tbst[i][j] = max(bst[i-1][j]+ll[i], bst[i-1][j-1])\n",
    "\n",
    "result = 0\n",
    "for i in range(1, r+1):\n",
    "\tresult = max(result, bst[i][m])\n",
    "\n",
    "print(result)"
   ]
  },
  {
   "cell_type": "code",
   "execution_count": null,
   "metadata": {},
   "outputs": [],
   "source": []
  }
 ],
 "metadata": {
  "kernelspec": {
   "display_name": "Python 3",
   "language": "python",
   "name": "python3"
  },
  "language_info": {
   "codemirror_mode": {
    "name": "ipython",
    "version": 3
   },
   "file_extension": ".py",
   "mimetype": "text/x-python",
   "name": "python",
   "nbconvert_exporter": "python",
   "pygments_lexer": "ipython3",
   "version": "3.7.4"
  }
 },
 "nbformat": 4,
 "nbformat_minor": 2
}
